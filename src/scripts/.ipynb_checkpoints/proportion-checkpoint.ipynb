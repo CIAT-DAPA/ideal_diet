{
 "cells": [
  {
   "cell_type": "code",
   "execution_count": 1,
   "metadata": {},
   "outputs": [
    {
     "name": "stdout",
     "output_type": "stream",
     "text": [
      "Configuration\n",
      "\tSetting parameters\n",
      "\tLoading parameters\n",
      "\tOther things\n",
      "\tSuccessful\n"
     ]
    }
   ],
   "source": [
    "import pandas as pd\n",
    "import numpy as np\n",
    "import matplotlib\n",
    "import matplotlib.pyplot as plt\n",
    "import os\n",
    "import math \n",
    "import seaborn as sns\n",
    "\n",
    "# Global variables\n",
    "print(\"Configuration\")\n",
    "path_root = \"C:\\\\Users\\\\annaw\\\\Documents\\\\GitHub\\\\ideal_diet\\\\src\\\\\"\n",
    "#path_root = \"G:\\\\CIAT\\\\Code\\\\CWR\\\\ideal_diet\\\\src\\\\\"\n",
    "path_inputs = path_root +\"inputs\\\\\"\n",
    "path_outputs = path_root + \"outputs\\\\\"\n",
    "\n",
    "print(\"\\tSetting parameters\")\n",
    "fao_element = [645,664]\n",
    "\n",
    "print(\"\\tLoading parameters\")\n",
    "groups = pd.read_excel(path_inputs + \"configurations.xlsx\", sheet_name='groups')\n",
    "diets = pd.read_excel(path_inputs + \"configurations.xlsx\", sheet_name='diets_proportion')\n",
    "years = pd.read_excel(path_inputs + \"configurations.xlsx\", sheet_name='years')\n",
    "indicators_country = pd.read_excel(path_inputs + \"configurations.xlsx\", sheet_name='indicators_country')\n",
    "\n",
    "print(\"\\tOther things\")\n",
    "years_fao_colnames = [\"Y\"+str(y.year) for y in years.itertuples(index=True, name='Pandas')]\n",
    "\n",
    "print(\"\\tSuccessful\")"
   ]
  },
  {
   "cell_type": "code",
   "execution_count": 2,
   "metadata": {},
   "outputs": [
    {
     "name": "stdout",
     "output_type": "stream",
     "text": [
      "Merging fao data with groups\n",
      "\tLoading fao data\n",
      "\tMerging fao data with groups\n",
      "\tFiltering columns\n",
      "\tFiltering element [645, 664]\n",
      "\tPivoting food groups\n",
      "\tSaving\n",
      "\tSuccessful\n"
     ]
    }
   ],
   "source": [
    "print(\"Merging fao data with groups\")\n",
    "\n",
    "print(\"\\tLoading fao data\")\n",
    "data_fao = pd.read_csv(path_inputs + \"faostat-food_supply.csv\", encoding = \"ISO-8859-1\")\n",
    "\n",
    "print(\"\\tMerging fao data with groups\")\n",
    "data_fao_groups = pd.merge(data_fao, groups, left_on = \"Item Code\",right_on=\"Item Code\",how='inner')\n",
    "\n",
    "print(\"\\tFiltering columns\")\n",
    "data_fao_colnames = [\"ID\",\"Area Code\",\"Area\",\"Item Code\",\"Item_x\",\"Element Code\",\"Element\",\"Unit\",\"Description\",\"Food group\"]\n",
    "data_fao_colnames.extend(years_fao_colnames)\n",
    "data_fao_groups = data_fao_groups[data_fao_colnames]\n",
    "data_fao_groups_colnames = [\"id\",\"area_code\",\"area\",\"item_code\",\"item\",\"element_code\",\"element\",\"unit\",\"description\",\"food_group\"]\n",
    "data_fao_groups_colnames.extend(years_fao_colnames)\n",
    "data_fao_groups.columns = data_fao_groups_colnames\n",
    "\n",
    "print(\"\\tFiltering element \" + str(fao_element))\n",
    "data_fao_groups = data_fao_groups[data_fao_groups.element_code.isin(fao_element)]\n",
    "\n",
    "print(\"\\tPivoting food groups\")\n",
    "data_fao_groups = pd.pivot_table(data_fao_groups, values=years_fao_colnames, index=['area','food_group'], columns=['element_code'], aggfunc=np.sum,fill_value=0.0)    \n",
    "data_fao_groups.reset_index(inplace=True)\n",
    "data_fao_groups.columns = data_fao_groups.columns.droplevel()\n",
    "data_fao_groups_colnames = ['area','food_group']\n",
    "for y in years_fao_colnames:\n",
    "    for e in fao_element:\n",
    "        data_fao_groups_colnames.append(y + \"_\" + str(e))\n",
    "data_fao_groups.columns = data_fao_groups_colnames\n",
    "\n",
    "print(\"\\tSaving\")\n",
    "data_fao_groups.to_excel(path_outputs +'1-data_fao_groups-proportion.xlsx', engine='openpyxl', index = False)\n",
    "\n",
    "print(\"\\tSuccessful\")"
   ]
  },
  {
   "cell_type": "code",
   "execution_count": null,
   "metadata": {},
   "outputs": [],
   "source": []
  }
 ],
 "metadata": {
  "kernelspec": {
   "display_name": "Python 3",
   "language": "python",
   "name": "python3"
  },
  "language_info": {
   "codemirror_mode": {
    "name": "ipython",
    "version": 3
   },
   "file_extension": ".py",
   "mimetype": "text/x-python",
   "name": "python",
   "nbconvert_exporter": "python",
   "pygments_lexer": "ipython3",
   "version": "3.7.3"
  }
 },
 "nbformat": 4,
 "nbformat_minor": 2
}
