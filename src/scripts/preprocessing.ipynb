{
 "cells": [
  {
   "cell_type": "code",
   "execution_count": 48,
   "metadata": {
    "scrolled": true
   },
   "outputs": [
    {
     "name": "stdout",
     "output_type": "stream",
     "text": [
      "Configuration\n",
      "\tSetting parameters\n",
      "\tLoading parameters\n",
      "\tOther things\n",
      "\tSuccessful\n"
     ]
    }
   ],
   "source": [
    "import pandas as pd\n",
    "import numpy as np\n",
    "import matplotlib\n",
    "import matplotlib.pyplot as plt\n",
    "import os\n",
    "import math \n",
    "import seaborn as sns\n",
    "\n",
    "# Global variables\n",
    "print(\"Configuration\")\n",
    "#path_root = \"C:\\\\Users\\\\annaw\\\\Documents\\\\GitHub\\\\ideal_diet\\\\src\\\\\"\n",
    "path_root = \"G:\\\\CIAT\\\\Code\\\\CWR\\\\ideal_diet\\\\src\\\\\"\n",
    "path_inputs = path_root +\"inputs\\\\\"\n",
    "path_outputs = path_root + \"outputs\\\\\"\n",
    "\n",
    "print(\"\\tSetting parameters\")\n",
    "fao_element = [645,664]\n",
    "#proportion = True\n",
    "proportion = False\n",
    "\n",
    "print(\"\\tLoading parameters\")\n",
    "groups = pd.read_excel(path_inputs + \"configurations.xlsx\", sheet_name='groups')\n",
    "if (proportion):\n",
    "    diets = pd.read_excel(path_inputs + \"configurations.xlsx\", sheet_name='diets_proportion')\n",
    "else: \n",
    "    diets = pd.read_excel(path_inputs + \"configurations.xlsx\", sheet_name='diets')\n",
    "years = pd.read_excel(path_inputs + \"configurations.xlsx\", sheet_name='years')\n",
    "indicators_country = pd.read_excel(path_inputs + \"configurations.xlsx\", sheet_name='indicators_country')\n",
    "\n",
    "print(\"\\tOther things\")\n",
    "years_fao_colnames = [\"Y\"+str(y.year) for y in years.itertuples(index=True, name='Pandas')]\n",
    "\n",
    "print(\"\\tSuccessful\")"
   ]
  },
  {
   "cell_type": "code",
   "execution_count": 49,
   "metadata": {
    "scrolled": true
   },
   "outputs": [
    {
     "name": "stdout",
     "output_type": "stream",
     "text": [
      "Merging fao data with groups\n",
      "\tLoading fao data\n",
      "\tMerging fao data with groups\n",
      "\tFiltering columns\n",
      "\tFiltering element [645, 664]\n",
      "\tPivoting food groups\n",
      "\tSaving\n",
      "\tSuccessful\n"
     ]
    }
   ],
   "source": [
    "print(\"Merging fao data with groups\")\n",
    "\n",
    "print(\"\\tLoading fao data\")\n",
    "data_fao = pd.read_csv(path_inputs + \"faostat-food_supply.csv\", encoding = \"ISO-8859-1\")\n",
    "\n",
    "print(\"\\tMerging fao data with groups\")\n",
    "data_fao_groups = pd.merge(data_fao, groups, left_on = \"Item Code\",right_on=\"Item Code\",how='inner')\n",
    "\n",
    "print(\"\\tFiltering columns\")\n",
    "data_fao_colnames = [\"ID\",\"Area Code\",\"Area\",\"Item Code\",\"Item_x\",\"Element Code\",\"Element\",\"Unit\",\"Description\",\"Food group\"]\n",
    "data_fao_colnames.extend(years_fao_colnames)\n",
    "data_fao_groups = data_fao_groups[data_fao_colnames]\n",
    "data_fao_groups_colnames = [\"id\",\"area_code\",\"area\",\"item_code\",\"item\",\"element_code\",\"element\",\"unit\",\"description\",\"food_group\"]\n",
    "data_fao_groups_colnames.extend(years_fao_colnames)\n",
    "data_fao_groups.columns = data_fao_groups_colnames\n",
    "\n",
    "print(\"\\tFiltering element \" + str(fao_element))\n",
    "data_fao_groups = data_fao_groups[data_fao_groups.element_code.isin(fao_element)]\n",
    "\n",
    "print(\"\\tPivoting food groups\")\n",
    "data_fao_groups = pd.pivot_table(data_fao_groups, values=years_fao_colnames, index=['area','food_group'], columns=['element_code'], aggfunc=np.sum,fill_value=0.0)    \n",
    "data_fao_groups.reset_index(inplace=True)\n",
    "data_fao_groups.columns = data_fao_groups.columns.droplevel()\n",
    "data_fao_groups_colnames = ['area','food_group']\n",
    "for y in years_fao_colnames:\n",
    "    for e in fao_element:\n",
    "        data_fao_groups_colnames.append(y + \"_\" + str(e))\n",
    "data_fao_groups.columns = data_fao_groups_colnames\n",
    "\n",
    "print(\"\\tSaving\")\n",
    "data_fao_groups.to_excel(path_outputs +'1-data_fao_groups.xlsx', engine='openpyxl', index = False)\n",
    "\n",
    "print(\"\\tSuccessful\")"
   ]
  },
  {
   "cell_type": "code",
   "execution_count": 50,
   "metadata": {
    "scrolled": true
   },
   "outputs": [
    {
     "name": "stdout",
     "output_type": "stream",
     "text": [
      "Merging fao data with diets and ssr\n",
      "\tLoading and merging SSR data\n",
      "\tMerging fao data with diet\n",
      "\tSaving\n",
      "\tSuccessful\n"
     ]
    }
   ],
   "source": [
    "print(\"Merging fao data with diets and ssr\")\n",
    "\n",
    "print(\"\\tLoading and merging SSR data\")\n",
    "# REMEMBER: You should execute ssr analysis before and put into inputs folder like csv file and just leave the columns\n",
    "# with ssr results for each variable\n",
    "ssr = pd.read_csv(path_inputs + \"ssr.csv\", encoding = \"ISO-8859-1\")\n",
    "data_fao_diet = pd.merge(data_fao_groups, ssr, left_on = [\"area\",\"food_group\"],right_on=[\"area\",\"food_group\"],how='inner')\n",
    "\n",
    "# added a new year column name for comparing ssr analysis\n",
    "years_fao_colnames.append(\"ssr\")    \n",
    "\n",
    "if(proportion):\n",
    "    prop = data_fao_diet.groupby(['area']).sum()\n",
    "\n",
    "    data_fao_diet = pd.merge(data_fao_diet, prop, left_on = \"area\",right_on=\"area\",how='inner')\n",
    "\n",
    "    for y in years_fao_colnames:\n",
    "        for e in fao_element:\n",
    "            data_fao_diet[y+\"_\"+str(e)]=data_fao_diet[y+\"_\"+str(e)+\"_x\"]/data_fao_diet[y+\"_\"+str(e)+\"_y\"]\n",
    "\n",
    "\n",
    "    reg_exp = \"^(\" + \"|\".join(years_fao_colnames) + \")_([A-Za-z])*(\\d)*_(\" + \"|\".join([\"x\",\"y\"]) + \")\"\n",
    "    cols = data_fao_diet.columns.drop(list(data_fao_diet.filter(regex=reg_exp)))\n",
    "\n",
    "    data_fao_diet = data_fao_diet[cols]\n",
    "\n",
    "print(\"\\tMerging fao data with diet\")\n",
    "data_fao_diet = pd.merge(data_fao_diet, diets, left_on = \"food_group\",right_on=\"food_group\",how='inner')\n",
    "\n",
    "print(\"\\tSaving\")\n",
    "data_fao_diet.to_excel(path_outputs +'2-data_fao_diet.xlsx', engine='openpyxl', index = False)\n",
    "\n",
    "print(\"\\tSuccessful\")"
   ]
  },
  {
   "cell_type": "code",
   "execution_count": 51,
   "metadata": {
    "scrolled": true
   },
   "outputs": [
    {
     "name": "stdout",
     "output_type": "stream",
     "text": [
      "Calculating categories\n",
      "['Y2013', 'ssr']\n",
      "\tCreating categories fields\n",
      "\tGetting food groups\n",
      "\t\tCalculating food group: Alcohol\n",
      "\t\t\tCalculating element: 645\n",
      "\t\t\tCalculating year: Y2013\n"
     ]
    },
    {
     "name": "stderr",
     "output_type": "stream",
     "text": [
      "C:\\Users\\hsotelo\\anaconda3\\lib\\site-packages\\ipykernel_launcher.py:66: SettingWithCopyWarning: \n",
      "A value is trying to be set on a copy of a slice from a DataFrame.\n",
      "Try using .loc[row_indexer,col_indexer] = value instead\n",
      "\n",
      "See the caveats in the documentation: http://pandas.pydata.org/pandas-docs/stable/indexing.html#indexing-view-versus-copy\n"
     ]
    },
    {
     "name": "stdout",
     "output_type": "stream",
     "text": [
      "\t\t\tCalculating year: ssr\n",
      "\t\t\tCalculating element: 664\n",
      "\t\t\tCalculating year: Y2013\n",
      "\t\t\tCalculating year: ssr\n",
      "\t\tCalculating food group: Dairy\n",
      "\t\t\tCalculating element: 645\n",
      "\t\t\tCalculating year: Y2013\n"
     ]
    },
    {
     "name": "stderr",
     "output_type": "stream",
     "text": [
      "C:\\Users\\hsotelo\\anaconda3\\lib\\site-packages\\ipykernel_launcher.py:46: SettingWithCopyWarning: \n",
      "A value is trying to be set on a copy of a slice from a DataFrame.\n",
      "Try using .loc[row_indexer,col_indexer] = value instead\n",
      "\n",
      "See the caveats in the documentation: http://pandas.pydata.org/pandas-docs/stable/indexing.html#indexing-view-versus-copy\n"
     ]
    },
    {
     "name": "stdout",
     "output_type": "stream",
     "text": [
      "\t\t\tCalculating year: ssr\n",
      "\t\t\tCalculating element: 664\n",
      "\t\t\tCalculating year: Y2013\n",
      "\t\t\tCalculating year: ssr\n",
      "\t\tCalculating food group: Fats & Oils\n",
      "\t\t\tCalculating element: 645\n",
      "\t\t\tCalculating year: Y2013\n",
      "\t\t\tCalculating year: ssr\n",
      "\t\t\tCalculating element: 664\n",
      "\t\t\tCalculating year: Y2013\n",
      "\t\t\tCalculating year: ssr\n",
      "\t\tCalculating food group: Fruits\n",
      "\t\t\tCalculating element: 645\n",
      "\t\t\tCalculating year: Y2013\n",
      "\t\t\tCalculating year: ssr\n",
      "\t\t\tCalculating element: 664\n",
      "\t\t\tCalculating year: Y2013\n",
      "\t\t\tCalculating year: ssr\n",
      "\t\tCalculating food group: Grains (Starchy staples)\n",
      "\t\t\tCalculating element: 645\n",
      "\t\t\tCalculating year: Y2013\n",
      "\t\t\tCalculating year: ssr\n",
      "\t\t\tCalculating element: 664\n",
      "\t\t\tCalculating year: Y2013\n",
      "\t\t\tCalculating year: ssr\n",
      "\t\tCalculating food group: Legumes, Nuts & Seeds\n",
      "\t\t\tCalculating element: 645\n",
      "\t\t\tCalculating year: Y2013\n",
      "\t\t\tCalculating year: ssr\n",
      "\t\t\tCalculating element: 664\n",
      "\t\t\tCalculating year: Y2013\n",
      "\t\t\tCalculating year: ssr\n",
      "\t\tCalculating food group: Meats\n",
      "\t\t\tCalculating element: 645\n",
      "\t\t\tCalculating year: Y2013\n",
      "\t\t\tCalculating year: ssr\n",
      "\t\t\tCalculating element: 664\n",
      "\t\t\tCalculating year: Y2013\n",
      "\t\t\tCalculating year: ssr\n",
      "\t\tCalculating food group: Miscellaneous\n",
      "\t\t\tCalculating element: 645\n",
      "\t\t\tCalculating year: Y2013\n",
      "\t\t\tCalculating year: ssr\n",
      "\t\t\tCalculating element: 664\n",
      "\t\t\tCalculating year: Y2013\n",
      "\t\t\tCalculating year: ssr\n",
      "\t\tCalculating food group: Spices\n",
      "\t\t\tCalculating element: 645\n",
      "\t\t\tCalculating year: Y2013\n",
      "\t\t\tCalculating year: ssr\n",
      "\t\t\tCalculating element: 664\n",
      "\t\t\tCalculating year: Y2013\n",
      "\t\t\tCalculating year: ssr\n",
      "\t\tCalculating food group: Sugars\n",
      "\t\t\tCalculating element: 645\n",
      "\t\t\tCalculating year: Y2013\n",
      "\t\t\tCalculating year: ssr\n",
      "\t\t\tCalculating element: 664\n",
      "\t\t\tCalculating year: Y2013\n",
      "\t\t\tCalculating year: ssr\n",
      "\t\tCalculating food group: Vegetables\n",
      "\t\t\tCalculating element: 645\n",
      "\t\t\tCalculating year: Y2013\n",
      "\t\t\tCalculating year: ssr\n",
      "\t\t\tCalculating element: 664\n",
      "\t\t\tCalculating year: Y2013\n",
      "\t\t\tCalculating year: ssr\n",
      "\tSaving\n",
      "\tSuccessful\n"
     ]
    }
   ],
   "source": [
    "print(\"Calculating categories\")\n",
    "print(years_fao_colnames)\n",
    "\n",
    "print(\"\\tCreating categories fields\")\n",
    "data_fao_cat = data_fao_diet.copy()\n",
    "\n",
    "for y in years_fao_colnames:\n",
    "    for e in fao_element:\n",
    "        data_fao_cat[\"category_\" + y + \"_\" + str(e)] = 0\n",
    "\n",
    "print(\"\\tGetting food groups\")\n",
    "food_group = data_fao_cat.food_group.unique()\n",
    "\n",
    "\n",
    "quintals = pd.DataFrame()\n",
    "\n",
    "for fg in food_group:\n",
    "    print(\"\\t\\tCalculating food group: \" + fg)\n",
    "    fg_fao = data_fao_cat[data_fao_cat.food_group == fg]\n",
    "    \n",
    "    for e in fao_element:\n",
    "        print(\"\\t\\t\\tCalculating element: \" + str(e))\n",
    "        diet = \"d\" + str(e)\n",
    "        \n",
    "        for y in years_fao_colnames:\n",
    "            print(\"\\t\\t\\tCalculating year: \" + y)\n",
    "            colname =  y + \"_\" + str(e)             \n",
    "\n",
    "            # Food groups above\n",
    "            fg_fao_a = fg_fao[fg_fao.type == \"A\"] \n",
    "            if(fg_fao_a.shape[0]>0):\n",
    "                # Splitting in two datasets: above or below of diet\n",
    "                fg_fao_a_above = fg_fao_a[fg_fao_a[colname] >= fg_fao_a[diet]]\n",
    "                fg_fao_a_below = fg_fao_a[fg_fao_a[colname] < fg_fao_a[diet]]\n",
    "\n",
    "                # Calculating quintals for below data\n",
    "                q = fg_fao_a_below[colname].quantile([0.25, 0.5,0.75, 1])\n",
    "                q[\"year\"] = y.replace(\"Y\",\"\")            \n",
    "                q[\"food_group\"] = fg\n",
    "                q[\"type\"] = \"A\"\n",
    "                q[\"element\"] = e\n",
    "                quintals = quintals.append(q, ignore_index=True)\n",
    "\n",
    "                # Setting category A\n",
    "                data_fao_cat[\"category_\" + y + \"_\" + str(e)].iloc[fg_fao_a_above.index] = 5\n",
    "                fg_fao_a_below[\"category_\" + y + \"_\" + str(e)] = fg_fao_a_below[colname].apply(lambda x: 1 if x<q[0] else (2 if x<q[1] else (3 if x<q[2] else 4)))\n",
    "                data_fao_cat[\"category_\" + y + \"_\" + str(e)].iloc[fg_fao_a_below.index] = fg_fao_a_below[\"category_\" + y + \"_\" + str(e)]\n",
    "\n",
    "            # Food groups below\n",
    "            fg_fao_b = fg_fao[fg_fao.type == \"B\"] \n",
    "            if(fg_fao_b.shape[0]>0):\n",
    "                # Splitting in two datasets: above or below of diet\n",
    "                fg_fao_b_below = fg_fao_b[fg_fao_b[colname] <= fg_fao_b[diet]]\n",
    "                fg_fao_b_above = fg_fao_b[fg_fao_b[colname] > fg_fao_b[diet]]\n",
    "\n",
    "                # Calculating quintals for below data\n",
    "                q = fg_fao_b_above[colname].quantile([0.25, 0.5,0.75, 1])\n",
    "                q[\"year\"] = y.replace(\"Y\",\"\")            \n",
    "                q[\"food_group\"] = fg\n",
    "                q[\"type\"] = \"B\"\n",
    "                q[\"element\"] = e\n",
    "                quintals = quintals.append(q, ignore_index=True)\n",
    "\n",
    "                # Setting category B\n",
    "                data_fao_cat[\"category_\" + y + \"_\" + str(e)].iloc[fg_fao_b_below.index] = 5\n",
    "                fg_fao_b_above[\"category_\" + y + \"_\" + str(e)] = fg_fao_b_above[colname].apply(lambda x: 1 if x>q[3] else (2 if x>q[2] else (3 if x>q[1] else 4)))\n",
    "                data_fao_cat[\"category_\" + y + \"_\" + str(e)].iloc[fg_fao_b_above.index] = fg_fao_b_above[\"category_\" + y + \"_\" + str(e)]\n",
    "\n",
    "print(\"\\tSaving\")\n",
    "quintals.to_excel(path_outputs +'3-quintals.xlsx', engine='openpyxl', index = False)  \n",
    "data_fao_cat.to_excel(path_outputs +'3-data_fao_cat.xlsx', engine='openpyxl', index = False)\n",
    "\n",
    "print(\"\\tSuccessful\")"
   ]
  },
  {
   "cell_type": "code",
   "execution_count": 52,
   "metadata": {
    "scrolled": true
   },
   "outputs": [
    {
     "name": "stdout",
     "output_type": "stream",
     "text": [
      "Creating matrix for countries analysis\n",
      "\tPivoting table by country\n",
      "\tSaving\n",
      "\tSuccessful\n"
     ]
    },
    {
     "name": "stderr",
     "output_type": "stream",
     "text": [
      "C:\\Users\\hsotelo\\anaconda3\\lib\\site-packages\\pandas\\core\\reshape\\merge.py:522: UserWarning: merging between different levels can give an unintended result (2 levels on the left, 1 on the right)\n",
      "  warnings.warn(msg, UserWarning)\n"
     ]
    }
   ],
   "source": [
    "print(\"Creating matrix for countries analysis\")\n",
    "\n",
    "print(\"\\tPivoting table by country\")\n",
    "data_countries_columns = []\n",
    "for y in years_fao_colnames:\n",
    "    for e in fao_element:\n",
    "        data_countries_columns.append(\"category_\" + y + \"_\" + str(e))\n",
    "\n",
    "        \n",
    "\n",
    "countries_pivot = pd.pivot_table(data_fao_cat, values=data_countries_columns, index=['area'], columns=['type'], aggfunc=np.sum)\n",
    "countries_pivot_total = countries_pivot.sum(level=0, axis=1)\n",
    "countries_pivot = countries_pivot.join(countries_pivot_total)\n",
    "countries_pivot.reset_index(inplace=True)\n",
    "\n",
    "countries_pivot_colnames = ['area']\n",
    "countries_pivot_colnames_total = []\n",
    "for y in years_fao_colnames:\n",
    "    for e in fao_element:\n",
    "        for t in ['A','B']:\n",
    "            countries_pivot_colnames.append(t + \"_\" + y + \"_\" + str(e))\n",
    "        countries_pivot_colnames_total.append(\"total_\" + y + \"_\" + str(e))\n",
    "\n",
    "countries_pivot_colnames.extend(countries_pivot_colnames_total)\n",
    "countries_pivot.columns = countries_pivot_colnames\n",
    "\n",
    "print(\"\\tSaving\")\n",
    "countries_pivot.to_excel(path_outputs +'4-data_countries.xlsx', engine='openpyxl', index = False)\n",
    "\n",
    "print(\"\\tSuccessful\")"
   ]
  },
  {
   "cell_type": "code",
   "execution_count": 53,
   "metadata": {},
   "outputs": [
    {
     "name": "stdout",
     "output_type": "stream",
     "text": [
      "Countries analysis\n",
      "\tMerging countries with indicators\n",
      "\tSaving\n",
      "\tCalculating correlation\n",
      "\tSaving\n",
      "\tSuccessful\n"
     ]
    }
   ],
   "source": [
    "print(\"Countries analysis\")\n",
    "\n",
    "print(\"\\tMerging countries with indicators\")\n",
    "countries_indicators = pd.merge(countries_pivot, indicators_country, left_on = \"area\",right_on=\"area\",how='inner')\n",
    "\n",
    "print(\"\\tSaving\")\n",
    "countries_indicators.to_excel(path_outputs +'5-countries_indicators.xlsx', engine='openpyxl', index = False)\n",
    "\n",
    "# Correlation\n",
    "print(\"\\tCalculating correlation\")\n",
    "countries_indicators_not_na = countries_indicators.dropna(axis = 0, how ='any') \n",
    "countries_indicators_not_na.to_excel(path_outputs +'5-countries_indicators_not_na.xlsx', engine='openpyxl', index = False)\n",
    "countries_correlation = countries_indicators_not_na.corr(method ='pearson')\n",
    "#countries_correlation.to_excel(path_outputs +'countries_correlation.xlsx', engine='openpyxl', index = False)\n",
    "def magnify():\n",
    "    return [dict(selector=\"th\",props=[(\"font-size\", \"7pt\")]),\n",
    "            dict(selector=\"td\",props=[('padding', \"0em 0em\")]),\n",
    "            dict(selector=\"th:hover\",props=[(\"font-size\", \"12pt\")]),\n",
    "            dict(selector=\"tr:hover td:hover\",props=[('max-width', '200px'),('font-size', '12pt')])]\n",
    "\n",
    "cmap = sns.diverging_palette(5, 250, as_cmap=True)\n",
    "countries_table_correlation = countries_correlation.style.background_gradient(cmap, axis=1)\\\n",
    "    .set_properties(**{'max-width': '80px', 'font-size': '10pt'})\\\n",
    "    .set_caption(\"Hover to magify\")\\\n",
    "    .set_precision(2)\\\n",
    "    .set_table_styles(magnify())\n",
    "\n",
    "print(\"\\tSaving\")\n",
    "countries_table_correlation.to_excel(path_outputs +'5-countries_table_correlation.xlsx', engine='openpyxl')\n",
    "\n",
    "print(\"\\tSuccessful\")"
   ]
  },
  {
   "cell_type": "code",
   "execution_count": 22,
   "metadata": {
    "scrolled": true
   },
   "outputs": [
    {
     "name": "stdout",
     "output_type": "stream",
     "text": [
      "SSR Analysis\n",
      "\tCopying fao data\n",
      "\tMerging fao data with groups\n",
      "\tFiltering columns\n",
      "\tFiltering elements\n",
      "\tPivoting food groups\n",
      "\tCalculating SSR\n",
      "\tSuccessful\n"
     ]
    }
   ],
   "source": []
  },
  {
   "cell_type": "code",
   "execution_count": null,
   "metadata": {},
   "outputs": [],
   "source": []
  }
 ],
 "metadata": {
  "kernelspec": {
   "display_name": "Python 3",
   "language": "python",
   "name": "python3"
  },
  "language_info": {
   "codemirror_mode": {
    "name": "ipython",
    "version": 3
   },
   "file_extension": ".py",
   "mimetype": "text/x-python",
   "name": "python",
   "nbconvert_exporter": "python",
   "pygments_lexer": "ipython3",
   "version": "3.7.3"
  }
 },
 "nbformat": 4,
 "nbformat_minor": 2
}
